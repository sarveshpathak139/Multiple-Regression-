{
 "cells": [
  {
   "cell_type": "code",
   "execution_count": 13,
   "metadata": {},
   "outputs": [
    {
     "name": "stdout",
     "output_type": "stream",
     "text": [
      "     mpg  cyl   disp   hp  drat     wt   qsec  vs  am  gear  carb\n",
      "0   21.0    6  160.0  110  3.90  2.620  16.46   0   1     4     4\n",
      "1   21.0    6  160.0  110  3.90  2.875  17.02   0   1     4     4\n",
      "2   22.8    4  108.0   93  3.85  2.320  18.61   1   1     4     1\n",
      "3   21.4    6  258.0  110  3.08  3.215  19.44   1   0     3     1\n",
      "4   18.7    8  360.0  175  3.15  3.440  17.02   0   0     3     2\n",
      "5   18.1    6  225.0  105  2.76  3.460  20.22   1   0     3     1\n",
      "6   14.3    8  360.0  245  3.21  3.570  15.84   0   0     3     4\n",
      "7   24.4    4  146.7   62  3.69  3.190  20.00   1   0     4     2\n",
      "8   22.8    4  140.8   95  3.92  3.150  22.90   1   0     4     2\n",
      "9   19.2    6  167.6  123  3.92  3.440  18.30   1   0     4     4\n",
      "10  17.8    6  167.6  123  3.92  3.440  18.90   1   0     4     4\n",
      "11  16.4    8  275.8  180  3.07  4.070  17.40   0   0     3     3\n",
      "12  17.3    8  275.8  180  3.07  3.730  17.60   0   0     3     3\n",
      "13  15.2    8  275.8  180  3.07  3.780  18.00   0   0     3     3\n",
      "14  10.4    8  472.0  205  2.93  5.250  17.98   0   0     3     4\n",
      "15  10.4    8  460.0  215  3.00  5.424  17.82   0   0     3     4\n",
      "16  14.7    8  440.0  230  3.23  5.345  17.42   0   0     3     4\n",
      "17  32.4    4   78.7   66  4.08  2.200  19.47   1   1     4     1\n",
      "18  30.4    4   75.7   52  4.93  1.615  18.52   1   1     4     2\n",
      "19  33.9    4   71.1   65  4.22  1.835  19.90   1   1     4     1\n",
      "20  21.5    4  120.1   97  3.70  2.465  20.01   1   0     3     1\n",
      "21  15.5    8  318.0  150  2.76  3.520  16.87   0   0     3     2\n",
      "22  15.2    8  304.0  150  3.15  3.435  17.30   0   0     3     2\n",
      "23  13.3    8  350.0  245  3.73  3.840  15.41   0   0     3     4\n",
      "24  19.2    8  400.0  175  3.08  3.845  17.05   0   0     3     2\n",
      "25  27.3    4   79.0   66  4.08  1.935  18.90   1   1     4     1\n",
      "26  26.0    4  120.3   91  4.43  2.140  16.70   0   1     5     2\n",
      "27  30.4    4   95.1  113  3.77  1.513  16.90   1   1     5     2\n",
      "28  15.8    8  351.0  264  4.22  3.170  14.50   0   1     5     4\n",
      "29  19.7    6  145.0  175  3.62  2.770  15.50   0   1     5     6\n",
      "30  15.0    8  301.0  335  3.54  3.570  14.60   0   1     5     8\n",
      "31  21.4    4  121.0  109  4.11  2.780  18.60   1   1     4     2\n"
     ]
    },
    {
     "data": {
      "text/plain": [
       "Index(['mpg', 'cyl', 'disp', 'hp', 'drat', 'wt', 'qsec', 'vs', 'am', 'gear',\n",
       "       'carb'],\n",
       "      dtype='object')"
      ]
     },
     "execution_count": 13,
     "metadata": {},
     "output_type": "execute_result"
    }
   ],
   "source": [
    "import pandas as pd\n",
    "data1=pd.read_csv(\"mtcars.csv\")\n",
    "print(data1)\n",
    "y=data1['mpg']#milage per gannon\n",
    "X=data1[['disp','hp','wt']]#displacemetn hourse powaer INout variable\n",
    "data1.columns#column names\n",
    "\n",
    "#not required to reshape aas u get the data is in [[]]\n",
    "\n"
   ]
  },
  {
   "cell_type": "code",
   "execution_count": 15,
   "metadata": {},
   "outputs": [],
   "source": [
    "from sklearn.linear_model import LinearRegression\n"
   ]
  },
  {
   "cell_type": "code",
   "execution_count": 17,
   "metadata": {},
   "outputs": [],
   "source": [
    "model=LinearRegression()"
   ]
  },
  {
   "cell_type": "code",
   "execution_count": 20,
   "metadata": {},
   "outputs": [
    {
     "data": {
      "text/plain": [
       "LinearRegression(copy_X=True, fit_intercept=True, n_jobs=None, normalize=False)"
      ]
     },
     "execution_count": 20,
     "metadata": {},
     "output_type": "execute_result"
    }
   ],
   "source": [
    "model.fit(X,y)#train the model of given data ML model # supervised function"
   ]
  },
  {
   "cell_type": "code",
   "execution_count": 23,
   "metadata": {},
   "outputs": [
    {
     "data": {
      "text/plain": [
       "82.68361424946447"
      ]
     },
     "execution_count": 23,
     "metadata": {},
     "output_type": "execute_result"
    }
   ],
   "source": [
    "model.score(X,y)*100#score of the Data Accuracy  Above 80 accuracy can be "
   ]
  },
  {
   "cell_type": "code",
   "execution_count": 25,
   "metadata": {},
   "outputs": [
    {
     "data": {
      "text/plain": [
       "37.10550526903182"
      ]
     },
     "execution_count": 25,
     "metadata": {},
     "output_type": "execute_result"
    }
   ],
   "source": [
    "model.intercept_ # intersect for the data\n"
   ]
  },
  {
   "cell_type": "code",
   "execution_count": 28,
   "metadata": {},
   "outputs": [
    {
     "data": {
      "text/plain": [
       "array([-9.37009081e-04, -3.11565508e-02, -3.80089058e+00])"
      ]
     },
     "execution_count": 28,
     "metadata": {},
     "output_type": "execute_result"
    }
   ],
   "source": [
    "model.coef_#for coefficient _ signifies Constant  1 coe disp 2 coe hp 3 coe-for hp"
   ]
  },
  {
   "cell_type": "code",
   "execution_count": 30,
   "metadata": {},
   "outputs": [],
   "source": [
    "disp=221\n",
    "hp=102\n",
    "wt=2.91"
   ]
  },
  {
   "cell_type": "code",
   "execution_count": 36,
   "metadata": {},
   "outputs": [],
   "source": [
    "#formula for the Y -\n",
    "# y=intersection+Xdisp*x1*coef_+Xhp*x2*coef_+Xwt*x3*coef_"
   ]
  },
  {
   "cell_type": "code",
   "execution_count": 33,
   "metadata": {},
   "outputs": [
    {
     "data": {
      "text/plain": [
       "22.659866492730828"
      ]
     },
     "execution_count": 33,
     "metadata": {},
     "output_type": "execute_result"
    }
   ],
   "source": [
    "37.10550526903182+ disp*-9.37009081e-04+hp*-3.11565508e-02+wt*-3.80089058e+00"
   ]
  },
  {
   "cell_type": "code",
   "execution_count": 37,
   "metadata": {},
   "outputs": [
    {
     "data": {
      "text/plain": [
       "array([22.65986648])"
      ]
     },
     "execution_count": 37,
     "metadata": {},
     "output_type": "execute_result"
    }
   ],
   "source": [
    "model.predict([[221,102,2.91]])\n",
    "\n",
    "#by using the predict method for the Given Value\n",
    "\n"
   ]
  },
  {
   "cell_type": "code",
   "execution_count": 42,
   "metadata": {},
   "outputs": [
    {
     "data": {
      "text/plain": [
       "22.66"
      ]
     },
     "execution_count": 42,
     "metadata": {},
     "output_type": "execute_result"
    }
   ],
   "source": [
    "import numpy as np\n",
    "np.round(model.predict([[disp,hp,wt]])[0],2)\n",
    "\n"
   ]
  },
  {
   "cell_type": "code",
   "execution_count": 77,
   "metadata": {},
   "outputs": [
    {
     "data": {
      "image/png": "[encoded data removed]",
      "text/plain": [
       "<Figure size 432x288 with 1 Axes>"
      ]
     },
     "metadata": {
      "needs_background": "light"
     },
     "output_type": "display_data"
    }
   ],
   "source": [
    "import matplotlib.pyplot as plt\n",
    "import pylab\n",
    "X1=data1['disp']\n",
    "X2=data1['hp']\n",
    "X3=data1['wt']\n",
    "\n",
    "plt.xlabel('Displacement')\n",
    "plt.ylabel('milage')\n",
    "\n",
    "\n",
    "pt1=plt.scatter(X1,y)\n",
    "\n"
   ]
  },
  {
   "cell_type": "code",
   "execution_count": 65,
   "metadata": {},
   "outputs": [
    {
     "data": {
      "image/png": "[encoded data removed]",
      "text/plain": [
       "<Figure size 432x288 with 1 Axes>"
      ]
     },
     "metadata": {
      "needs_background": "light"
     },
     "output_type": "display_data"
    }
   ],
   "source": [
    "X2=data1['hp']\n",
    "\n",
    "plt.xlabel('Hourse ')\n",
    "plt.ylabel('milage')\n",
    "\n",
    "\n",
    "pt2=plt.scatter(X2,y)"
   ]
  },
  {
   "cell_type": "code",
   "execution_count": 68,
   "metadata": {},
   "outputs": [
    {
     "data": {
      "text/plain": [
       "<matplotlib.collections.PathCollection at 0x7f38d4e8a470>"
      ]
     },
     "execution_count": 68,
     "metadata": {},
     "output_type": "execute_result"
    },
    {
     "data": {
      "image/png": "[encoded data removed]",
      "text/plain": [
       "<Figure size 432x288 with 1 Axes>"
      ]
     },
     "metadata": {
      "needs_background": "light"
     },
     "output_type": "display_data"
    }
   ],
   "source": [
    "X3=data1['wt']\n",
    "\n",
    "plt.xlabel('weight')\n",
    "plt.ylabel('milage')\n",
    "\n",
    "\n",
    "plt.scatter(X2,y)"
   ]
  },
  {
   "cell_type": "code",
   "execution_count": 78,
   "metadata": {},
   "outputs": [
    {
     "data": {
      "image/png": "[encoded data removed]",
      "text/plain": [
       "<Figure size 432x288 with 3 Axes>"
      ]
     },
     "metadata": {
      "needs_background": "light"
     },
     "output_type": "display_data"
    }
   ],
   "source": [
    "plt.subplot(2,2,1)\n",
    "plt.xlabel('Displacement')\n",
    "plt.ylabel('milage')\n",
    "plt.scatter(X['disp'],y)\n",
    "\n",
    "plt.xlabel('Hourse ')\n",
    "plt.ylabel('milage')\n",
    "plt.subplot(2,2,2)\n",
    "plt.scatter(X['hp'],y,marker='.')\n",
    "\n",
    "\n",
    "plt.xlabel('weight')\n",
    "plt.ylabel('milage')\n",
    "plt.subplot(2,2,3)\n",
    "plt.scatter(X['wt'],y)\n",
    "\n",
    "pylab.savefig('multipleregession.png')\n"
   ]
  }
 ],
 "metadata": {
  "kernelspec": {
   "display_name": "Python 3",
   "language": "python",
   "name": "python3"
  },
  "language_info": {
   "codemirror_mode": {
    "name": "ipython",
    "version": 3
   },
   "file_extension": ".py",
   "mimetype": "text/x-python",
   "name": "python",
   "nbconvert_exporter": "python",
   "pygments_lexer": "ipython3",
   "version": "3.6.8"
  }
 },
 "nbformat": 4,
 "nbformat_minor": 2
}
